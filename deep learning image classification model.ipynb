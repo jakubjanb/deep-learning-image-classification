{
 "cells": [
  {
   "cell_type": "markdown",
   "id": "c5515bc0",
   "metadata": {},
   "source": [
    "This notebook uses a deep learning image classification model, VGG16, to find similar images among a set of photos of household tools, cheese graters and foot files.\n",
    "\n",
    "Below we import the libraries we'll be using."
   ]
  },
  {
   "cell_type": "code",
   "execution_count": null,
   "id": "6ed41fe1",
   "metadata": {},
   "outputs": [],
   "source": [
    "!pip install keras=='2.8.0'\n",
    "from keras.models import Model\n",
    "from keras.layers import Dense,Flatten\n",
    "from keras.applications import vgg16\n",
    "from keras import backend as K\n",
    "from keras.preprocessing import image\n",
    "from keras.applications.vgg16 import preprocess_input\n",
    "import numpy as np"
   ]
  },
  {
   "cell_type": "markdown",
   "id": "010b73b0",
   "metadata": {},
   "source": [
    "We'll download the model VGG16 that has already been trained on the dataset ImageNet."
   ]
  },
  {
   "cell_type": "code",
   "execution_count": null,
   "id": "46173b98",
   "metadata": {},
   "outputs": [],
   "source": [
    "model = vgg16.VGG16(weights='imagenet', include_top=True)"
   ]
  },
  {
   "cell_type": "markdown",
   "id": "ffbea9e3",
   "metadata": {},
   "source": [
    "Next, we'll remove the last two layers of the model."
   ]
  },
  {
   "cell_type": "code",
   "execution_count": null,
   "id": "f060822f",
   "metadata": {},
   "outputs": [],
   "source": [
    "model2 = Model(model.input, model.layers[-2].output)"
   ]
  },
  {
   "cell_type": "markdown",
   "id": "10d12f35",
   "metadata": {},
   "source": [
    "We'll download addtional images from GitHub below"
   ]
  }
 ],
 "metadata": {
  "kernelspec": {
   "display_name": "Python 3 (ipykernel)",
   "language": "python",
   "name": "python3"
  },
  "language_info": {
   "codemirror_mode": {
    "name": "ipython",
    "version": 3
   },
   "file_extension": ".py",
   "mimetype": "text/x-python",
   "name": "python",
   "nbconvert_exporter": "python",
   "pygments_lexer": "ipython3",
   "version": "3.9.7"
  }
 },
 "nbformat": 4,
 "nbformat_minor": 5
}
